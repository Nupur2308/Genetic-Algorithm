{
 "cells": [
  {
   "cell_type": "markdown",
   "metadata": {},
   "source": [
    "## Infinite Monkey Theorem\n",
    "\n",
    "Using genetic algorithm to get to the phrase \"To be or not to be that is the question\" \n",
    "\n",
    "r1: revision to use matrix algebra rather than lists of lists"
   ]
  },
  {
   "cell_type": "code",
   "execution_count": 2,
   "metadata": {},
   "outputs": [],
   "source": [
    "import numpy as np\n",
    "import string\n",
    "import random\n",
    "import pandas as pd\n",
    "import matplotlib.pyplot as plt\n",
    "import time\n",
    "import numpy as np\n",
    "from itertools import chain"
   ]
  },
  {
   "cell_type": "markdown",
   "metadata": {},
   "source": [
    "# Create a timer class"
   ]
  },
  {
   "cell_type": "code",
   "execution_count": 43,
   "metadata": {},
   "outputs": [],
   "source": [
    "class TimerError(Exception):\n",
    "    \"\"\"A custom exception used to report errors in use of Timer class\"\"\"\n",
    "\n",
    "class Timer:\n",
    "    def __init__(self):\n",
    "        self._start_time = None\n",
    "\n",
    "    def start(self):\n",
    "        \"\"\"Start a new timer\"\"\"\n",
    "        if self._start_time is not None:\n",
    "            raise TimerError(f\"Timer is running. Use .stop() to stop it\")\n",
    "\n",
    "        self._start_time = time.perf_counter()\n",
    "\n",
    "    def stop(self,not_quiet=1):\n",
    "        \"\"\"Stop the timer, and report the elapsed time\"\"\"\n",
    "        if self._start_time is None:\n",
    "            raise TimerError(f\"Timer is not running. Use .start() to start it\")\n",
    "\n",
    "        elapsed_time = time.perf_counter() - self._start_time\n",
    "        self._start_time = None\n",
    "        if not_quiet:\n",
    "            print(f\"Elapsed time: {elapsed_time:0.4f} seconds\")\n",
    "        return elapsed_time"
   ]
  },
  {
   "cell_type": "markdown",
   "metadata": {},
   "source": [
    "#### Function to Initialize Population"
   ]
  },
  {
   "cell_type": "code",
   "execution_count": 45,
   "metadata": {},
   "outputs": [],
   "source": [
    "# Generate a random population of random DNA \n",
    "\n",
    "# Function to create a random string with n characters\n",
    "def dna(target):\n",
    "    n = len(target)\n",
    "    chars = 'abcdefghijklmnopqrstuvwxyz     ABCDEFGHIJKLMNOPQRSTUVWXYZ'\n",
    "    element = random.choices(chars,k=n)\n",
    "    return element\n",
    "\n",
    "# Function to initialize the population \n",
    "def initial_pop(target,popmax):\n",
    "    population =[]\n",
    "    population = [dna(target) for i in range(popmax)]\n",
    "    return population\n",
    "\n",
    "# Function to initialize the population using matrices\n",
    "def initial_pop_matrix(target,popmax):\n",
    "    chars = 'abcdefghijklmnopqrstuvwxyz     ABCDEFGHIJKLMNOPQRSTUVWXYZ'\n",
    "    population = np.random.choice(list(len(chars)),size=(len(target),popmax))\n",
    "    return population"
   ]
  },
  {
   "cell_type": "code",
   "execution_count": 44,
   "metadata": {},
   "outputs": [
    {
     "data": {
      "text/plain": [
       "0.009673678999998856"
      ]
     },
     "execution_count": 44,
     "metadata": {},
     "output_type": "execute_result"
    }
   ],
   "source": [
    "times = []\n",
    "for i in range(100):\n",
    "    t = Timer()\n",
    "    t.start()\n",
    "    p = initial_pop(target,popmax)\n",
    "    times.append(t.stop(0))\n",
    "np.mean(times)"
   ]
  },
  {
   "cell_type": "code",
   "execution_count": 46,
   "metadata": {},
   "outputs": [
    {
     "data": {
      "text/plain": [
       "0.00041704999999865323"
      ]
     },
     "execution_count": 46,
     "metadata": {},
     "output_type": "execute_result"
    }
   ],
   "source": [
    "times = []\n",
    "for i in range(100):\n",
    "    t = Timer()\n",
    "    t.start()\n",
    "    p = initial_pop_matrix(target,popmax)\n",
    "    times.append(t.stop(0))\n",
    "np.mean(times)"
   ]
  },
  {
   "cell_type": "markdown",
   "metadata": {},
   "source": [
    "Improvement of 25x by using a matrix initalization"
   ]
  },
  {
   "cell_type": "markdown",
   "metadata": {},
   "source": [
    "#### Function to Calculate fitness of each DNA in the population"
   ]
  },
  {
   "cell_type": "code",
   "execution_count": 94,
   "metadata": {},
   "outputs": [],
   "source": [
    "def calculate_fitness(population, target, popmax):\n",
    "    fitness_score = [None] * popmax\n",
    "    b = list(target)\n",
    "    for idx, val in enumerate(population):\n",
    "        matches = 0 \n",
    "        for i, j in zip(val, b):\n",
    "            if i == j:\n",
    "                matches+=1 \n",
    "        fitness_score[idx] = matches/len(b)*100\n",
    "    \n",
    "    max_fitness = max(fitness_score)\n",
    "    max_fitness_index = fitness_score.index(max_fitness)\n",
    "    return fitness_score, max_fitness_index, max_fitness\n",
    "\n",
    "def calculate_fitness_matrix(population, target, popmax):\n",
    "    target_matrix = np.tile(np.array(list(target)).reshape((-1,1)),popmax)\n",
    "    fitness_score = (population==target_matrix).sum(axis=0)\n",
    "    max_fitness = max(fitness_score)\n",
    "    max_fitness_index = np.where(fitness_score == max_fitness)[0]\n",
    "    return fitness_score, max_fitness_index, max_fitness"
   ]
  },
  {
   "cell_type": "code",
   "execution_count": 95,
   "metadata": {},
   "outputs": [
    {
     "data": {
      "text/plain": [
       "0.003815175000004274"
      ]
     },
     "execution_count": 95,
     "metadata": {},
     "output_type": "execute_result"
    }
   ],
   "source": [
    "times = []\n",
    "for i in range(100):\n",
    "    t = Timer()\n",
    "    p = initial_pop(target,popmax)\n",
    "    t.start()\n",
    "    calculate_fitness(p, target, popmax)\n",
    "    times.append(t.stop(0))\n",
    "np.mean(times)"
   ]
  },
  {
   "cell_type": "code",
   "execution_count": 96,
   "metadata": {},
   "outputs": [
    {
     "data": {
      "text/plain": [
       "0.0006514830000060101"
      ]
     },
     "execution_count": 96,
     "metadata": {},
     "output_type": "execute_result"
    }
   ],
   "source": [
    "times = []\n",
    "for i in range(100):\n",
    "    t = Timer()\n",
    "    p = initial_pop_matrix(target,popmax)\n",
    "    t.start()\n",
    "    calculate_fitness_matrix(p, target, popmax)\n",
    "    times.append(t.stop(0))\n",
    "np.mean(times)"
   ]
  },
  {
   "cell_type": "markdown",
   "metadata": {},
   "source": [
    "Speed improvement of 6x using matrix methods"
   ]
  },
  {
   "cell_type": "markdown",
   "metadata": {},
   "source": [
    "#### Functions to Create a New Generation\n",
    "- Generate mating pool\n",
    "- Crossover\n",
    "- Mutate \n",
    "- Create new generation"
   ]
  },
  {
   "cell_type": "code",
   "execution_count": 56,
   "metadata": {},
   "outputs": [],
   "source": [
    "#Based on fitness, each member will get added to the mating pool a certain number of times\n",
    "\n",
    "def mating_pool_function(population,fitness,popmax):\n",
    "    #Normalize fitness scores against the maximum \n",
    "    norm = [float(i)/max(fitness) for i in fitness]\n",
    "    \n",
    "    mating_pool = [None] * popmax\n",
    "    mating_pool = random.choices(population,weights = norm,k=popmax)\n",
    "    return mating_pool\n",
    "\n",
    "def mating_pool_function_matrix(population,fitness,popmax):\n",
    "    #draw random indexes based on fitness score and create new population\n",
    "    idx = random.choices(list(range(popmax)),weights = fitness,k=popmax)    \n",
    "    return population[:,idx]"
   ]
  },
  {
   "cell_type": "code",
   "execution_count": 57,
   "metadata": {},
   "outputs": [],
   "source": [
    "#Crossover to create a new child\n",
    "\n",
    "def crossover(parent_a,parent_b):\n",
    "    child = []\n",
    "    midpoint = random.uniform(0,len(parent_a)) #picking a random midpoint - we do not have a specified crossover rate \n",
    "    child = [parent_a[i] if i<midpoint else parent_b[i] for i in range(len(parent_a))]\n",
    "    return child\n",
    "\n",
    "def crossover_matrix(parent_a,parent_b):\n",
    "    #cross over randomly\n",
    "    randarray = np.random.random(size=parent_a.shape)<.5\n",
    "    parent_a[randarray] = parent_b[randarray]\n",
    "    return parent_a"
   ]
  },
  {
   "cell_type": "code",
   "execution_count": 58,
   "metadata": {},
   "outputs": [],
   "source": [
    "#Mutation: Based on the mutation probability, picks a new random character\n",
    "\n",
    "def mutate(mutationRate,child):\n",
    "    chars = 'abcdefghijklmnopqrstuvwxyz     ABCDEFGHIJKLMNOPQRSTUVWXYZ'\n",
    "    mutate_child = [\"\".join(random.choices(chars,k=1)) if random.uniform(0,1)<mutationRate else i for i in child]\n",
    "    return mutate_child\n",
    "\n",
    "def mutate_matrix(mutationRate,child):\n",
    "    #fill a random matrix\n",
    "    rand_char = initial_pop_matrix(target,popmax)\n",
    "    #determine mutations\n",
    "    mutator = np.random.random(size=(len(target),popmax))<mutationRate\n",
    "    #mutate the child where necessary\n",
    "    child[mutator] = rand_char[mutator]\n",
    "    return child"
   ]
  },
  {
   "cell_type": "code",
   "execution_count": 156,
   "metadata": {},
   "outputs": [],
   "source": [
    "#Refill the population with children from the mating pool\n",
    "\n",
    "def generate(population, fitness, popmax, mutationRate):\n",
    "    \n",
    "    #Create mating pool \n",
    "    #mating_pool = [None] * popmax\n",
    "    mating_pool = mating_pool_function(population, fitness, popmax)\n",
    "    \n",
    "    new_population = [None] * popmax\n",
    "    for i in range(popmax):\n",
    "        a = list(chain(*(random.choices(mating_pool,k=1))))\n",
    "        b = list(chain(*(random.choices(mating_pool,k=1))))\n",
    "        child = crossover(a,b)\n",
    "        mutate_child = mutate(mutationRate,child)\n",
    "        new_population[i] = mutate_child\n",
    "    return new_population\n",
    "\n",
    "def generate_matrix(population, fitness, popmax, mutationRate):\n",
    "    \n",
    "    #Create mating pool \n",
    "    #mating_pool = [None] * popmax\n",
    "    #create two parents\n",
    "    p_a = mating_pool_function_matrix(population, fitness, popmax)\n",
    "    p_b = mating_pool_function_matrix(population, fitness, popmax)\n",
    "    crossed = crossover_matrix(p_a,p_b)\n",
    "    new_pop = mutate_matrix(mutationRate,crossed)\n",
    "    return new_pop"
   ]
  },
  {
   "cell_type": "code",
   "execution_count": 178,
   "metadata": {},
   "outputs": [],
   "source": [
    "def get_typing(target, popmax=1000, mutationRate=0.01):\n",
    "    #runs the simulation to find the time to reach the target\n",
    "    timer = Timer()\n",
    "\n",
    "\n",
    "    #Initialize population \n",
    "    population = initial_pop_matrix(target,popmax)\n",
    "    mostFit = []\n",
    "    generations = 0 \n",
    "    timer.start()\n",
    "    max_fitness = 0\n",
    "    while max_fitness != len(target):\n",
    "        #Calculate fitness of each member of population and get the most fit member \n",
    "        fitness_score, mostFit_index, max_fitness = calculate_fitness_matrix(population, target, popmax)\n",
    "        #mostFit = \"\".join(population[mostFit_index])\n",
    "        #Generate new population \n",
    "        population = generate_matrix(population, fitness_score, popmax, mutationRate)\n",
    "    return timer.stop(0)"
   ]
  },
  {
   "cell_type": "markdown",
   "metadata": {},
   "source": [
    "#### Run Program"
   ]
  },
  {
   "cell_type": "code",
   "execution_count": 180,
   "metadata": {
    "scrolled": false
   },
   "outputs": [
    {
     "name": "stdout",
     "output_type": "stream",
     "text": [
      "Mutation Rate: 0.0001\n",
      "0 9.116127299999789\n",
      "5 0.4854932000007466\n",
      "Mutation Rate: 0.0001 average time of 1.6683s\n",
      "Mutation Rate: 0.0005\n",
      "0 0.4979014999998981\n",
      "5 0.5072537000005468\n",
      "Mutation Rate: 0.0005 average time of 0.8693s\n",
      "Mutation Rate: 0.0010\n",
      "0 0.5749371000001702\n",
      "5 0.5316229000000021\n",
      "Mutation Rate: 0.0010 average time of 0.7854s\n",
      "Mutation Rate: 0.0050\n",
      "0 0.5690752999998949\n",
      "5 0.6957398000004105\n",
      "Mutation Rate: 0.0050 average time of 0.6122s\n",
      "Mutation Rate: 0.0100\n",
      "0 4.381050999999388\n",
      "5 2.4184831000002305\n",
      "Mutation Rate: 0.0100 average time of 2.8180s\n"
     ]
    }
   ],
   "source": [
    "target = \"To be or not to be that is the question\"\n",
    "mrate = [0.0001,0.0005,0.001,0.005,0.01]\n",
    "trials = 10\n",
    "tdict = {}\n",
    "for mr in mrate:\n",
    "    print(\"Mutation Rate: %0.4f\"%(mr))\n",
    "    a = []\n",
    "    for i in range(trials):\n",
    "        t = get_typing(target,1000,mr)\n",
    "        if (i%5)==0:\n",
    "            print(i,t)\n",
    "        a.append(t)\n",
    "    print(\"Mutation Rate: %0.4f average time of %0.4fs\"%(mr,sum(a)/trials))\n",
    "    tdict[mr] = sum(a)/trials"
   ]
  },
  {
   "cell_type": "code",
   "execution_count": 181,
   "metadata": {},
   "outputs": [
    {
     "data": {
      "image/png": "[encoded data removed]",
      "text/plain": [
       "<Figure size 432x288 with 1 Axes>"
      ]
     },
     "metadata": {
      "needs_background": "light"
     },
     "output_type": "display_data"
    }
   ],
   "source": [
    "plt.plot(tdict.keys(),tdict.values(),'r.')\n",
    "plt.show()"
   ]
  },
  {
   "cell_type": "code",
   "execution_count": 10,
   "metadata": {},
   "outputs": [
    {
     "data": {
      "text/plain": [
       "array([['B', 'v', 'N', 't', ' ', 'M', 'e', 'q', ' ', 'C'],\n",
       "       ['r', 'w', ' ', 'R', 'D', 'P', 'y', 'Q', 'Q', 'T'],\n",
       "       [' ', 'O', 'P', 'n', 'u', 'B', 'C', 'Y', 'U', 'o'],\n",
       "       [' ', 'Y', 'y', 'Z', 'B', 'Z', 'D', 'h', 'V', 'Z'],\n",
       "       ['O', ' ', ' ', 'P', 's', 'S', 'w', 'H', ' ', 'Z'],\n",
       "       ['P', 'E', 'u', ' ', 'N', 'P', 'R', 'n', 'f', 'T'],\n",
       "       ['H', ' ', 'H', 'D', 'V', 'l', 'I', 'e', 'z', 'e']], dtype='<U1')"
      ]
     },
     "execution_count": 10,
     "metadata": {},
     "output_type": "execute_result"
    }
   ],
   "source": [
    "target = \"unicorn\"\n",
    "popmax = 10\n",
    "chars = 'abcdefghijklmnopqrstuvwxyz     ABCDEFGHIJKLMNOPQRSTUVWXYZ'\n",
    "pop = np.random.choice(list(chars),size=(len(target),popmax))\n",
    "pop"
   ]
  },
  {
   "cell_type": "code",
   "execution_count": 19,
   "metadata": {},
   "outputs": [],
   "source": [
    "#np.tile(np.array(list(target)).reshape((-1,1)),10)\n",
    "target_matrix = np.tile(np.array(list(target)).reshape((-1,1)),popmax)"
   ]
  },
  {
   "cell_type": "code",
   "execution_count": 23,
   "metadata": {},
   "outputs": [
    {
     "data": {
      "text/plain": [
       "0"
      ]
     },
     "execution_count": 23,
     "metadata": {},
     "output_type": "execute_result"
    }
   ],
   "source": [
    "fitness_score = (pop==target_matrix).sum(axis=0)\n",
    "max_fitness = max(fitness_score)\n",
    "#max_fitness_index = np.where(fitness_score == max_fitness)[0]\n",
    "max_fitness"
   ]
  },
  {
   "cell_type": "code",
   "execution_count": 26,
   "metadata": {},
   "outputs": [
    {
     "data": {
      "text/plain": [
       "array([0, 1, 2, 3, 4, 5, 6, 7, 8, 9], dtype=int64)"
      ]
     },
     "execution_count": 26,
     "metadata": {},
     "output_type": "execute_result"
    }
   ],
   "source": [
    "np.where(fitness_score == max_fitness)[0]"
   ]
  },
  {
   "cell_type": "code",
   "execution_count": 28,
   "metadata": {},
   "outputs": [],
   "source": [
    "idx = random.choices(list(range(popmax)),weights = fitness_score,k=popmax)"
   ]
  },
  {
   "cell_type": "code",
   "execution_count": 30,
   "metadata": {},
   "outputs": [
    {
     "data": {
      "text/plain": [
       "array([['C', 'C', 'C', 'C', 'C', 'C', 'C', 'C', 'C', 'C'],\n",
       "       ['T', 'T', 'T', 'T', 'T', 'T', 'T', 'T', 'T', 'T'],\n",
       "       ['o', 'o', 'o', 'o', 'o', 'o', 'o', 'o', 'o', 'o'],\n",
       "       ['Z', 'Z', 'Z', 'Z', 'Z', 'Z', 'Z', 'Z', 'Z', 'Z'],\n",
       "       ['Z', 'Z', 'Z', 'Z', 'Z', 'Z', 'Z', 'Z', 'Z', 'Z'],\n",
       "       ['T', 'T', 'T', 'T', 'T', 'T', 'T', 'T', 'T', 'T'],\n",
       "       ['e', 'e', 'e', 'e', 'e', 'e', 'e', 'e', 'e', 'e']], dtype='<U1')"
      ]
     },
     "execution_count": 30,
     "metadata": {},
     "output_type": "execute_result"
    }
   ],
   "source": [
    "pop[:,idx]"
   ]
  },
  {
   "cell_type": "code",
   "execution_count": 31,
   "metadata": {},
   "outputs": [],
   "source": [
    "def crossover_matrix(parent_a,parent_b):\n",
    "    #cross over randomly\n",
    "    randarray = np.random.random(size=parent_a.shape)<.5\n",
    "    parent_a[randarray] = parent_b[randarray]\n",
    "    return parent_a"
   ]
  },
  {
   "cell_type": "code",
   "execution_count": 34,
   "metadata": {},
   "outputs": [
    {
     "data": {
      "text/plain": [
       "(array(['B', 'v', 'N', 't', ' ', 'M', 'e', 'q', ' ', 'C'], dtype='<U1'),\n",
       " array(['r', 'w', ' ', 'R', 'D', 'P', 'y', 'Q', 'Q', 'T'], dtype='<U1'))"
      ]
     },
     "execution_count": 34,
     "metadata": {},
     "output_type": "execute_result"
    }
   ],
   "source": [
    "parent_a = pop[0]\n",
    "parent_b = pop[1]\n",
    "parent_a, parent_b"
   ]
  },
  {
   "cell_type": "code",
   "execution_count": 41,
   "metadata": {},
   "outputs": [
    {
     "data": {
      "text/plain": [
       "array([False,  True, False,  True, False,  True,  True, False,  True,\n",
       "       False])"
      ]
     },
     "execution_count": 41,
     "metadata": {},
     "output_type": "execute_result"
    }
   ],
   "source": [
    "randarray=np.random.random(size=parent_a.shape)<0.5\n",
    "randarray"
   ]
  },
  {
   "cell_type": "code",
   "execution_count": 42,
   "metadata": {},
   "outputs": [
    {
     "data": {
      "text/plain": [
       "array(['v', 't', 'M', 'e', ' '], dtype='<U1')"
      ]
     },
     "execution_count": 42,
     "metadata": {},
     "output_type": "execute_result"
    }
   ],
   "source": [
    "parent_a[randarray] "
   ]
  },
  {
   "cell_type": "code",
   "execution_count": 51,
   "metadata": {},
   "outputs": [
    {
     "data": {
      "text/plain": [
       "(7, 10)"
      ]
     },
     "execution_count": 51,
     "metadata": {},
     "output_type": "execute_result"
    }
   ],
   "source": [
    "randarray = np.random.random(size=(len(target),popmax))\n",
    "np.shape(pop)"
   ]
  },
  {
   "cell_type": "code",
   "execution_count": 61,
   "metadata": {},
   "outputs": [
    {
     "data": {
      "text/plain": [
       "(array([['B', ' ', 'B', 'M', ' ', 'M', 'N', 'B', 't', 'B'],\n",
       "        ['r', 'D', 'r', 'P', 'Q', 'P', ' ', 'r', 'R', 'r'],\n",
       "        [' ', 'u', ' ', 'B', 'U', 'B', 'P', ' ', 'n', ' '],\n",
       "        [' ', 'B', ' ', 'Z', 'V', 'Z', 'y', ' ', 'Z', ' '],\n",
       "        ['O', 's', 'O', 'S', ' ', 'S', ' ', 'O', 'P', 'O'],\n",
       "        ['P', 'N', 'P', 'P', 'f', 'P', 'u', 'P', ' ', 'P'],\n",
       "        ['H', 'V', 'H', 'l', 'z', 'l', 'H', 'H', 'D', 'H']], dtype='<U1'),\n",
       " array([['B', 'v', 'N', 't', ' ', 'M', 'e', 'q', ' ', 'C'],\n",
       "        ['r', 'w', ' ', 'R', 'D', 'P', 'y', 'Q', 'Q', 'T'],\n",
       "        [' ', 'O', 'P', 'n', 'u', 'B', 'C', 'Y', 'U', 'o'],\n",
       "        [' ', 'Y', 'y', 'Z', 'B', 'Z', 'D', 'h', 'V', 'Z'],\n",
       "        ['O', ' ', ' ', 'P', 's', 'S', 'w', 'H', ' ', 'Z'],\n",
       "        ['P', 'E', 'u', ' ', 'N', 'P', 'R', 'n', 'f', 'T'],\n",
       "        ['H', ' ', 'H', 'D', 'V', 'l', 'I', 'e', 'z', 'e']], dtype='<U1'),\n",
       " array([0.79169998, 0.16992179, 0.21977818, 0.52399929, 0.82877063,\n",
       "        0.94801275, 0.07101551, 0.43370135, 0.35240728, 0.5461435 ]))"
      ]
     },
     "execution_count": 61,
     "metadata": {},
     "output_type": "execute_result"
    }
   ],
   "source": [
    "fitness = np.random.random(size = popmax)\n",
    "p_a = mating_pool_function_matrix(pop, fitness, popmax)\n",
    "p_a, pop, fitness\n",
    "#p_b = mating_pool_function_matrix(population, fitness, popmax)\n",
    "#crossed = crossover_matrix(p_a,p_b)\n",
    "#new_pop = mutate_matrix(mutationRate,crossed)"
   ]
  },
  {
   "cell_type": "code",
   "execution_count": 64,
   "metadata": {},
   "outputs": [
    {
     "data": {
      "text/plain": [
       "array([[0.15305717, 0.16999868, 0.07370664, 0.50719659, 0.0467665 ,\n",
       "        0.37638991, 0.38196925, 0.13718729, 0.97656375, 0.8433901 ],\n",
       "       [0.96744356, 0.76282942, 0.64334664, 0.16050453, 0.24511529,\n",
       "        0.66832039, 0.67445095, 0.5753594 , 0.44765774, 0.3873643 ],\n",
       "       [0.42408169, 0.27024302, 0.26492682, 0.28147972, 0.26385875,\n",
       "        0.67803289, 0.53966252, 0.74031346, 0.67212153, 0.30870409],\n",
       "       [0.17347327, 0.43147851, 0.05927271, 0.79892175, 0.42589584,\n",
       "        0.29833794, 0.16247924, 0.2970894 , 0.73107107, 0.22503948],\n",
       "       [0.13868061, 0.22263349, 0.32014198, 0.53809086, 0.93629008,\n",
       "        0.86730847, 0.55363257, 0.77746995, 0.83237086, 0.23654092],\n",
       "       [0.6498646 , 0.9815168 , 0.09093944, 0.49281024, 0.61896184,\n",
       "        0.13378465, 0.07570741, 0.21845595, 0.27542452, 0.90881852],\n",
       "       [0.12472212, 0.03893569, 0.31998162, 0.67598987, 0.44058006,\n",
       "        0.25356895, 0.10186654, 0.79177606, 0.27746735, 0.13347753]])"
      ]
     },
     "execution_count": 64,
     "metadata": {},
     "output_type": "execute_result"
    }
   ],
   "source": [
    "np.random.random(size=p_a.shape)"
   ]
  },
  {
   "cell_type": "code",
   "execution_count": null,
   "metadata": {},
   "outputs": [],
   "source": []
  }
 ],
 "metadata": {
  "kernelspec": {
   "display_name": "Python 3",
   "language": "python",
   "name": "python3"
  },
  "language_info": {
   "codemirror_mode": {
    "name": "ipython",
    "version": 3
   },
   "file_extension": ".py",
   "mimetype": "text/x-python",
   "name": "python",
   "nbconvert_exporter": "python",
   "pygments_lexer": "ipython3",
   "version": "3.8.5"
  }
 },
 "nbformat": 4,
 "nbformat_minor": 4
}
